{
 "cells": [
  {
   "cell_type": "markdown",
   "id": "dd96b5b2",
   "metadata": {},
   "source": [
    "Lab1\n",
    "\n",
    "1. Write a Python program to implement Standard Scalar.\n",
    "2. Write a Python program to implement Min-max Scalar."
   ]
  },
  {
   "cell_type": "code",
   "execution_count": 8,
   "id": "1f9b4432",
   "metadata": {},
   "outputs": [
    {
     "name": "stdout",
     "output_type": "stream",
     "text": [
      "Original Data\n",
      "   Salary  Age\n",
      "0   45000   42\n",
      "1   32000   26\n",
      "2   58000   48\n",
      "3   37000   32\n",
      "4   20000   23\n",
      "5   62000   50\n",
      "\n",
      "Normalized Data\n",
      "     Salary       Age\n",
      "0  0.167102  0.450783\n",
      "1 -0.647522 -0.945191\n",
      "2  0.981727  0.974274\n",
      "3 -0.334205 -0.421701\n",
      "4 -1.399483 -1.206936\n",
      "5  1.232380  1.148770\n"
     ]
    }
   ],
   "source": [
    "#Write a Python Program to implement Standard Scalar.\n",
    "import pandas as pd\n",
    "\n",
    "class StandardNorm:\n",
    "    def scale(self, df):\n",
    "        for i in df.columns:\n",
    "            mean = df[i].mean()\n",
    "            sd = df[i].std()\n",
    "            df[i] = (df[i] - mean) / sd\n",
    "        return df\n",
    "\n",
    "\n",
    "df = pd.DataFrame(\n",
    "    [[45000, 42], [32000, 26], [58000, 48], [37000, 32] ,[20000, 23],[62000, 50]], columns=[\"Salary\", \"Age\"]\n",
    ")\n",
    "print(\"Original Data\")\n",
    "print(df)\n",
    "\n",
    "s = StandardNorm()\n",
    "df_scaled = s.scale(df)\n",
    "\n",
    "print(\"\\nNormalized Data\")\n",
    "print(df_scaled)"
   ]
  },
  {
   "cell_type": "code",
   "execution_count": 9,
   "id": "2dbe889b",
   "metadata": {},
   "outputs": [
    {
     "name": "stdout",
     "output_type": "stream",
     "text": [
      "Original Data\n",
      "   Salary  Age\n",
      "0   45000   42\n",
      "1   32000   26\n",
      "2   58000   48\n",
      "3   37000   32\n",
      "4   20000   23\n",
      "5   62000   50\n",
      "\n",
      "Normalized Data\n",
      "     Salary       Age\n",
      "0  0.595238  0.703704\n",
      "1  0.285714  0.111111\n",
      "2  0.904762  0.925926\n",
      "3  0.404762  0.333333\n",
      "4  0.000000  0.000000\n",
      "5  1.000000  1.000000\n"
     ]
    }
   ],
   "source": [
    "#Write a Python program to implement Min-max Scalar.\n",
    "import numpy as np\n",
    "import pandas as pd\n",
    "\n",
    "\n",
    "class MinMaxNorm:\n",
    "    def scale(self, df):\n",
    "        for c in df.columns:\n",
    "            min = df[c].min()\n",
    "            max = df[c].max()\n",
    "            df[c] = (df[c] - min) / (max - min)\n",
    "        return df\n",
    "\n",
    "\n",
    "df = pd.DataFrame(\n",
    "    [[45000, 42], [32000, 26], [58000, 48], [37000, 32] ,[20000, 23],[62000, 50]], columns=[\"Salary\", \"Age\"]\n",
    ")\n",
    "print(\"Original Data\")\n",
    "print(df)\n",
    "\n",
    "s = MinMaxNorm()\n",
    "df_scaled = s.scale(df)\n",
    "\n",
    "print(\"\\nNormalized Data\")\n",
    "print(df_scaled)"
   ]
  },
  {
   "cell_type": "code",
   "execution_count": null,
   "id": "c7fd0c91",
   "metadata": {},
   "outputs": [],
   "source": []
  }
 ],
 "metadata": {
  "kernelspec": {
   "display_name": "Python 3 (ipykernel)",
   "language": "python",
   "name": "python3"
  },
  "language_info": {
   "codemirror_mode": {
    "name": "ipython",
    "version": 3
   },
   "file_extension": ".py",
   "mimetype": "text/x-python",
   "name": "python",
   "nbconvert_exporter": "python",
   "pygments_lexer": "ipython3",
   "version": "3.11.5"
  }
 },
 "nbformat": 4,
 "nbformat_minor": 5
}
